{
 "cells": [
  {
   "cell_type": "markdown",
   "metadata": {},
   "source": [
    "### Delete index"
   ]
  },
  {
   "cell_type": "code",
   "execution_count": null,
   "metadata": {},
   "outputs": [],
   "source": [
    "import requests\n",
    "\n",
    "headers = {\n",
    "        'Content-Type': 'application/json'\n",
    "}\n",
    "\n",
    "res=requests.delete('http://localhost:9200/news',headers=headers)#,data=json_body)\n",
    "print(res.json())"
   ]
  },
  {
   "cell_type": "markdown",
   "metadata": {},
   "source": [
    "### Create new index with static mapping"
   ]
  },
  {
   "cell_type": "code",
   "execution_count": null,
   "metadata": {},
   "outputs": [],
   "source": [
    "import requests\n",
    "\n",
    "headers = {\n",
    "        'Content-Type': 'application/json'\n",
    "}\n",
    "\n",
    "json_body='''\n",
    "    {\n",
    "        \"mappings\":\n",
    "            {\n",
    "              \"properties\":{\n",
    "                \"url\" :{\"type\":\"text\"}, \n",
    "                \"title\":{\"type\":\"text\",\"analyzer\": \"standard\"},\n",
    "                \"publishedAt\":{\"type\":\"date\",\"format\":\"yyyy-MM-dd\"},\n",
    "                \"source\":{\"type\":\"keyword\"}\n",
    "                }\n",
    "            }\n",
    "        }\n",
    "'''\n",
    "\n",
    "res=requests.put('http://localhost:9200/news',headers=headers,data=json_body)\n",
    "print(res.json())"
   ]
  },
  {
   "cell_type": "markdown",
   "metadata": {},
   "source": [
    "### Load data"
   ]
  },
  {
   "cell_type": "code",
   "execution_count": null,
   "metadata": {},
   "outputs": [],
   "source": [
    "import pandas as pd\n",
    "df=pd.read_csv(\"news.csv\",encoding='utf-8',header=[0],index_col=[0])\n",
    "df.info()"
   ]
  },
  {
   "cell_type": "markdown",
   "metadata": {},
   "source": [
    "### Indexing a document"
   ]
  },
  {
   "cell_type": "code",
   "execution_count": null,
   "metadata": {
    "scrolled": true
   },
   "outputs": [],
   "source": [
    "for i,r in df.iterrows():\n",
    "    json_body='{\"url\":\"'+r['url']+'\",\"title\":\"'+r['title'].replace('\"','')+'\",\"publishedAt\":\"'+r['publishedAt']+'\",\"source\":\"'+r['source']+'\"}'\n",
    "    res=requests.post('http://localhost:9200/news/_doc',headers=headers,data=json_body.encode('utf-8'))"
   ]
  },
  {
   "cell_type": "markdown",
   "metadata": {},
   "source": [
    "### Count the number of indexed documents"
   ]
  },
  {
   "cell_type": "code",
   "execution_count": null,
   "metadata": {},
   "outputs": [],
   "source": [
    "import requests\n",
    "import plotly.graph_objects as go\n",
    "\n",
    "res=requests.get('http://localhost:9200/news/_doc/_count')\n",
    "print(res.json())"
   ]
  },
  {
   "cell_type": "markdown",
   "metadata": {},
   "source": [
    "### Search"
   ]
  },
  {
   "cell_type": "code",
   "execution_count": null,
   "metadata": {},
   "outputs": [],
   "source": [
    "def query_sigle_term(field,term):\n",
    "    json_body='{\"size\":10,\"query\": {\"term\": {\"'+field+'\": \"'+term+'\"}}}'\n",
    "    return json_body\n",
    "\n",
    "json_body=query_sigle_term(\"title\",\"קורונה\")\n",
    "res=requests.get('http://localhost:9200/news/_search',headers=headers,data=json_body.encode('utf-8'))\n",
    "print(res.json()['hits'])"
   ]
  },
  {
   "cell_type": "code",
   "execution_count": null,
   "metadata": {},
   "outputs": [],
   "source": [
    "def query_multiple_terms(field,terms):\n",
    "    json_body='{\"size\":10,\"query\": {\"terms\": {\"'+field+'\": '+terms+'}}}'\n",
    "    return json_body\n",
    "\n",
    "json_body=query_multiple_terms('title','[\"קורונה\",\"חיסון\"]')  \n",
    "res=requests.get('http://localhost:9200/news/_search',headers=headers,data=json_body.encode('utf-8'))\n",
    "print(res.json()['hits'])"
   ]
  },
  {
   "cell_type": "code",
   "execution_count": null,
   "metadata": {},
   "outputs": [],
   "source": [
    "def query_range_date(start,end):\n",
    "    json_body = '{\"query\": {\"range\": {\"publishedAt\": {\"gte\": \"'+start+'\",\"lte\": \"'+end+'\",\"boost\": 2.0}}}}'\n",
    "    return json_body\n",
    "\n",
    "json_body=query_range_date('2020-10-10','2020-10-14')\n",
    "res=requests.get('http://localhost:9200/news/_search',headers=headers,data=json_body.encode('utf-8'))\n",
    "print(res.json())"
   ]
  },
  {
   "cell_type": "code",
   "execution_count": null,
   "metadata": {},
   "outputs": [],
   "source": [
    "def wildcard_query(field,text):\n",
    "    json_body='{\"query\":{\"wildcard\":{\"'+field+'\":\"'+text+'\"}}}'\n",
    "    return json_body\n",
    "\n",
    "json_body=wildcard_query('title','*קורונ*')\n",
    "res=requests.get('http://localhost:9200/news/_search',headers=headers,data=json_body.encode('utf-8'))\n",
    "print(res.json()['hits'])"
   ]
  },
  {
   "cell_type": "markdown",
   "metadata": {},
   "source": [
    "### Aggregate query"
   ]
  },
  {
   "cell_type": "code",
   "execution_count": null,
   "metadata": {},
   "outputs": [],
   "source": [
    "def aggregate_query():\n",
    "    json_body='''\n",
    "        {\n",
    "      \"size\": 0,\n",
    "      \"aggs\": {\n",
    "        \"group_by_day\": {\n",
    "          \"date_histogram\": {\n",
    "            \"field\": \"publishedAt\",\n",
    "            \"interval\": \"day\"\n",
    "          }\n",
    "        }\n",
    "      }\n",
    "}\n",
    "    '''\n",
    "    return json_body\n",
    "\n",
    "json_body=aggregate_query()\n",
    "res=requests.get('http://localhost:9200/news/_search',headers=headers,data=json_body.encode('utf-8'))\n",
    "print(res.json()['aggregations'])"
   ]
  },
  {
   "cell_type": "code",
   "execution_count": null,
   "metadata": {},
   "outputs": [],
   "source": [
    "def aggregate_field_query():\n",
    "    json_body='''\n",
    "        {\n",
    "      \"size\": 0,\n",
    "      \"aggs\": {\n",
    "        \"group_by_day\": {\n",
    "          \"date_histogram\": {\n",
    "            \"field\": \"publishedAt\",\n",
    "            \"interval\": \"day\"\n",
    "          },\n",
    "          \"aggs\": {\n",
    "            \"group_by_source\": {\n",
    "              \"terms\": {\n",
    "                \"field\": \"source\"\n",
    "              }\n",
    "            }\n",
    "          }\n",
    "        }\n",
    "      }\n",
    "}\n",
    "    '''\n",
    "    return json_body\n",
    "\n",
    "json_body=aggregate_field_query()\n",
    "res=requests.get('http://localhost:9200/news/_search',headers=headers,data=json_body.encode('utf-8'))\n",
    "print(res.json()['aggregations'])"
   ]
  },
  {
   "cell_type": "code",
   "execution_count": null,
   "metadata": {},
   "outputs": [],
   "source": [
    "def aggregate_fields_query(text):\n",
    "    json_body='{ \"size\":0,\"query\":{\"match\":{\"title\":{\"query\":\"'+text+'\",\"fuzziness\": 2}}}, \"aggs\":{\"dates\":{\"terms\":{\"field\":\"publishedAt\"},\"aggs\": {\"sources\":{\"terms\":{\"field\":\"source\"}}}}}}'\n",
    "    return json_body\n",
    "\n",
    "json_body=aggregate_fields_query(\"קורונה\")\n",
    "res=requests.get('http://localhost:9200/news/_search',headers=headers,data=json_body.encode('utf-8'))\n",
    "print(res.json()['aggregations'])"
   ]
  },
  {
   "cell_type": "markdown",
   "metadata": {},
   "source": []
  },
  {
   "cell_type": "markdown",
   "metadata": {},
   "source": [
    "### Highlight query"
   ]
  },
  {
   "cell_type": "code",
   "execution_count": null,
   "metadata": {},
   "outputs": [],
   "source": [
    "def highlight_query(field,text):\n",
    "    json_body='{\"query\": {\"match\": { \"'+field+'\": \"'+text+'\" }},\"highlight\": {\"fields\": {\"'+field+'\": {}}}}'\n",
    "    return json_body\n",
    "\n",
    "json_body=highlight_query('title','קורונה')\n",
    "res=requests.get('http://localhost:9200/news/_search',headers=headers,data=json_body.encode('utf-8'))\n",
    "print(res.json()['hits'])"
   ]
  },
  {
   "cell_type": "code",
   "execution_count": null,
   "metadata": {},
   "outputs": [],
   "source": [
    "def suggest_query(field,text):\n",
    "    json_body='{\"query\" : {\"match\": {\"'+field+'\": \"'+text+'\"}},\"suggest\" : {\"suggestion\" : {\"text\" : \"'+text+'\",\"term\" : {\"field\" : \"'+field+'\" } }}}'\n",
    "    return json_body\n",
    "\n",
    "json_body=suggest_query('description','חגיג')\n",
    "res=requests.get('http://localhost:9200/news/_search',headers=headers,data=json_body.encode('utf-8'))\n",
    "print(res.json())"
   ]
  },
  {
   "cell_type": "markdown",
   "metadata": {},
   "source": [
    "### Dashboard with Plotly"
   ]
  },
  {
   "cell_type": "code",
   "execution_count": null,
   "metadata": {},
   "outputs": [],
   "source": [
    "!pip install chart_studio"
   ]
  },
  {
   "cell_type": "code",
   "execution_count": null,
   "metadata": {},
   "outputs": [],
   "source": [
    "import ipywidgets as widgets\n",
    "from IPython.display import display\n",
    "import seaborn as sns\n",
    "import matplotlib.pyplot as plt\n",
    "from bidi.algorithm import get_display\n",
    "import requests\n",
    "import pandas as pd\n",
    "\n",
    "plot_output = widgets.Output()\n",
    "number_output = widgets.Output()\n",
    "pie_output = widgets.Output()\n",
    "output = widgets.Output()\n",
    "\n",
    "json_body=aggregate_query()\n",
    "res=requests.get('http://localhost:9200/news/_search',headers=headers,data=json_body.encode('utf-8'))\n",
    "df=pd.DataFrame(data=res.json()['aggregations']['group_by_day']['buckets'])\n",
    "df['date']=pd.to_datetime(df['key_as_string'])\n",
    "df['date']=df['date'].dt.date\n",
    "df=df.sort_values(by='date')\n",
    "\n",
    "plot_output.clear_output()\n",
    "with plot_output:\n",
    "    import plotly.express as px \n",
    "    fig = px.bar(df, x=\"date\", y=\"doc_count\", hover_data=['date']) \n",
    "    fig.update_layout(bargap=0.1)\n",
    "    fig.show()\n",
    "    \n",
    "with number_output:\n",
    "    import plotly.graph_objects as go\n",
    "    fig = go.Figure()\n",
    "    res=requests.get('http://localhost:9200/news/_doc/_count')\n",
    "    fig.add_trace(go.Indicator(\n",
    "        mode = \"number\",\n",
    "        value = int(res.json()['count']),\n",
    "        title = {\"text\": \"Number of Articles\"},\n",
    "        domain = {'row': 0, 'column': 0}))\n",
    "    fig.show()\n",
    "    \n",
    "json_body=aggregate_field_query()\n",
    "res=requests.get('http://localhost:9200/news/_search',headers=headers,data=json_body.encode('utf-8'))\n",
    "dates=list()\n",
    "sources=list()\n",
    "doc_counts=list()\n",
    "for b in res.json()['aggregations']['group_by_day']['buckets']:\n",
    "    for source in b['group_by_source']['buckets']:\n",
    "        dates.append(b['key_as_string'])\n",
    "        sources.append(get_display(source['key']))\n",
    "        doc_counts.append(source['doc_count'])\n",
    "        \n",
    "df=pd.DataFrame()\n",
    "df['date']=dates\n",
    "df['sources']=sources\n",
    "df['doc_count']=doc_counts\n",
    "df['date']=pd.to_datetime(df['date'])\n",
    "df['date']=df['date'].dt.date\n",
    "df=df.sort_values(by='date')\n",
    "\n",
    "plot_output.clear_output()\n",
    "with plot_output:\n",
    "    import plotly.express as px \n",
    "    fig = px.bar(df, x=\"date\", y=\"doc_count\", color=\"sources\", hover_data=['date'], barmode = 'group') \n",
    "    fig.update_layout(bargap=0.1)\n",
    "    fig.show()\n",
    "\n",
    "with pie_output:\n",
    "    import plotly.express as px\n",
    "    fig = px.pie(df, values='doc_count', names='sources', title='')\n",
    "    fig.update_traces(textposition='outside')\n",
    "    fig.show()\n",
    "\n",
    "def btn_eventhandler(obj):\n",
    "    def query_sigle_term(field,term):\n",
    "        json_body='{\"size\":10,\"query\": {\"term\": {\"'+field+'\": \"'+term+'\"}}}'\n",
    "        return json_body\n",
    "\n",
    "    json_body=query_sigle_term(\"title\",search.value)\n",
    "    res=requests.get('http://localhost:9200/news/_search',headers=headers,data=json_body.encode('utf-8'))\n",
    "    lst=list()\n",
    "    for s in res.json()['hits']['hits']:\n",
    "        lst.append(s['_source'])\n",
    "\n",
    "    df=pd.DataFrame(data=lst)\n",
    "    df=df.drop_duplicates(['title'])\n",
    "    df['title']=df['title'].apply(lambda x:get_display(x))\n",
    "    df['source']=df['source'].apply(lambda x:get_display(x))\n",
    "    output.clear_output()\n",
    "    with output:\n",
    "        import plotly.graph_objects as go\n",
    "        fig = go.Figure(data=[go.Table(\n",
    "            header=dict(values=list(['title','date','source']),\n",
    "                        align='left'),\n",
    "            cells=dict(values=[df.title, df.publishedAt, df.source],\n",
    "                       align='right'))\n",
    "        ])\n",
    "        fig.show()\n",
    "\n",
    "\n",
    "btn = widgets.Button(description='search')\n",
    "search=widgets.Text(\n",
    "    value='',\n",
    "    placeholder='searchbox',\n",
    "    description='Query text:',\n",
    "    disabled=False\n",
    ")\n",
    "\n",
    "title=widgets.HTML('</br><h1>News Articles Dashboard</h1></br>')\n",
    "display(title)\n",
    "numer_widgets= widgets.HBox(\n",
    "[number_output,pie_output])\n",
    "display(numer_widgets)\n",
    "display(plot_output)\n",
    "\n",
    "input_widgets = widgets.HBox(\n",
    "[search,btn])\n",
    "btn.on_click(btn_eventhandler)\n",
    "display(input_widgets)\n",
    "display(output)"
   ]
  }
 ],
 "metadata": {
  "kernelspec": {
   "display_name": "Python 3",
   "language": "python",
   "name": "python3"
  },
  "language_info": {
   "codemirror_mode": {
    "name": "ipython",
    "version": 3
   },
   "file_extension": ".py",
   "mimetype": "text/x-python",
   "name": "python",
   "nbconvert_exporter": "python",
   "pygments_lexer": "ipython3",
   "version": "3.7.7"
  }
 },
 "nbformat": 4,
 "nbformat_minor": 4
}
