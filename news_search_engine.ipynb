{
 "cells": [
  {
   "cell_type": "markdown",
   "metadata": {},
   "source": [
    "### Delete index"
   ]
  },
  {
   "cell_type": "code",
   "execution_count": null,
   "metadata": {},
   "outputs": [],
   "source": [
    "import requests\n",
    "\n",
    "headers = {\n",
    "        'Content-Type': 'application/json'\n",
    "}\n",
    "\n",
    "res=requests.delete('http://localhost:9200/news',headers=headers)#,data=json_body)\n",
    "print(res.json())"
   ]
  },
  {
   "cell_type": "markdown",
   "metadata": {},
   "source": [
    "### Create new index with static mapping"
   ]
  },
  {
   "cell_type": "code",
   "execution_count": null,
   "metadata": {},
   "outputs": [],
   "source": [
    "import requests\n",
    "\n",
    "headers = {\n",
    "        'Content-Type': 'application/json'\n",
    "}\n",
    "\n",
    "json_body='''\n",
    "    {\n",
    "        \"mappings\":\n",
    "            {\n",
    "              \"properties\":{\n",
    "                \"url\" :{\"type\":\"text\"}, \n",
    "                \"title\":{\"type\":\"text\",\"analyzer\": \"standard\"},\n",
    "                \"description\":{\"type\" : \"text\",\"analyzer\": \"standard\"},  \n",
    "                \"author\":{\"type\":\"text\"},\n",
    "                \"publishedAt\":{\"type\":\"date\",\"format\":\"yyyy-MM-dd HH:mm:ss\"},\n",
    "                \"source\":{\"type\":\"keyword\"}\n",
    "                }\n",
    "            }\n",
    "        }\n",
    "'''\n",
    "\n",
    "res=requests.put('http://localhost:9200/news',headers=headers,data=json_body)\n",
    "print(res.json())"
   ]
  },
  {
   "cell_type": "markdown",
   "metadata": {},
   "source": [
    "### Insert news articles to index"
   ]
  },
  {
   "cell_type": "code",
   "execution_count": null,
   "metadata": {},
   "outputs": [],
   "source": [
    "import pandas as pd\n",
    "filename=\"news.csv\"\n",
    "df=pd.read_csv(filename,encoding='utf-8',header=[0],index_col=[0])"
   ]
  },
  {
   "cell_type": "code",
   "execution_count": null,
   "metadata": {},
   "outputs": [],
   "source": [
    "df['publishedAt']=df['publishedAt'].apply(lambda x:x.split('.')[0])"
   ]
  },
  {
   "cell_type": "code",
   "execution_count": null,
   "metadata": {},
   "outputs": [],
   "source": [
    "df.info()"
   ]
  },
  {
   "cell_type": "code",
   "execution_count": null,
   "metadata": {},
   "outputs": [],
   "source": [
    "df.tail()"
   ]
  },
  {
   "cell_type": "markdown",
   "metadata": {},
   "source": [
    "### Indexing a document"
   ]
  },
  {
   "cell_type": "code",
   "execution_count": null,
   "metadata": {
    "scrolled": true
   },
   "outputs": [],
   "source": [
    "for i in df.index:\n",
    "    print(i)\n",
    "    json_body=df.loc[i].to_json()\n",
    "    res=requests.post('http://localhost:9200/news/_doc',headers=headers,data=json_body)\n",
    "    print(res.json())"
   ]
  },
  {
   "cell_type": "markdown",
   "metadata": {},
   "source": [
    "### Count the number of indexed documents"
   ]
  },
  {
   "cell_type": "code",
   "execution_count": null,
   "metadata": {},
   "outputs": [],
   "source": [
    "import requests\n",
    "\n",
    "res=requests.get('http://localhost:9200/news/_doc/_count')\n",
    "print(res.json())"
   ]
  },
  {
   "cell_type": "markdown",
   "metadata": {},
   "source": [
    "### Search"
   ]
  },
  {
   "cell_type": "code",
   "execution_count": null,
   "metadata": {},
   "outputs": [],
   "source": [
    "def search_text(text):\n",
    "    json_body='{\"query\":{\"query_string\":{\"query\":\"'+text+'\"}}}'\n",
    "    return json_body\n",
    "\n",
    "def search_match_field(field,text):\n",
    "    json_body='{\"query\":{\"match\":{\"'+field+'\":\"'+text+'\"}}}'\n",
    "    return json_body\n",
    "\n",
    "def search_match_field_wildcard(field,text):\n",
    "    json_body='{\"query\":{\"wildcard\":{\"'+field+'\":\"'+text+'\"}}}'\n",
    "    return json_body\n",
    "\n",
    "def search_multi_match_fields(fields,text):\n",
    "    json_body='{\"query\":{ \"multi_match\":{\"query\":\"'+text+'\",\"fields\":'+fields+'}}}'\n",
    "    print(json_body)\n",
    "    return json_body\n",
    "\n",
    "def search_query_range_date(start,end):\n",
    "    json_body = '{\"query\": {\"range\": {\"date\": {\"gte\": \"'+start+'\",\"lte\": \"'+end+'\",\"boost\": 2.0}}}}'\n",
    "    return json_body\n",
    "\n",
    "def search_match_range_date(start,end,field,text):\n",
    "    json_body = '{\"query\":{\"bool\":{\"must\":[{\"match\":{\"'+field+'\":\"'+text+'\"}},{\"range\":{\"date\":{\"gte\": \"'+start+'\",\"lte\":\"'+end+'\"}}}]}}}'\n",
    "    return json_body\n",
    "\n",
    "def search_fuzzy_match(field,text,operator,fuzziness):\n",
    "    json_body='{\"query\":{\"match\":{\"'+field+'\":{\"query\":\"'+text+'\",\"operator\":\"'+operator+'\",\"fuzziness\":'+fuzziness+'}}}}'\n",
    "    return json_body"
   ]
  },
  {
   "cell_type": "code",
   "execution_count": null,
   "metadata": {
    "scrolled": true
   },
   "outputs": [],
   "source": [
    "json_body=search_text(\"קורונה\")\n",
    "res=requests.get('http://localhost:9200/news/_search',headers=headers,data=json_body.encode('utf-8'))\n",
    "print(res.json()['hits'])"
   ]
  },
  {
   "cell_type": "code",
   "execution_count": null,
   "metadata": {
    "scrolled": true
   },
   "outputs": [],
   "source": [
    "json_body=search_match_field(\"title\",\"קורונה\")\n",
    "res=requests.get('http://localhost:9200/news/_search',headers=headers,data=json_body.encode('utf-8'))\n",
    "print(res.json()['hits'])"
   ]
  },
  {
   "cell_type": "code",
   "execution_count": null,
   "metadata": {
    "scrolled": true
   },
   "outputs": [],
   "source": [
    "json_body=search_multi_match_fields('[\"title\",\"description\"]',\"סגר\")\n",
    "res=requests.get('http://localhost:9200/news/_search',headers=headers,data=json_body.encode('utf-8'))\n",
    "print(res.json()['hits'])"
   ]
  },
  {
   "cell_type": "code",
   "execution_count": null,
   "metadata": {
    "scrolled": true
   },
   "outputs": [],
   "source": [
    "json_body=search_query_range_date('2020-10-10','2020-10-12')\n",
    "res=requests.get('http://localhost:9200/news/_search',headers=headers,data=json_body.encode('utf-8'))\n",
    "print(res.json()['hits'])"
   ]
  },
  {
   "cell_type": "code",
   "execution_count": null,
   "metadata": {
    "scrolled": true
   },
   "outputs": [],
   "source": [
    "json_body=search_match_range_date('2020-10-10','2020-10-12','title','חיסון')\n",
    "res=requests.get('http://localhost:9200/news/_search',headers=headers,data=json_body.encode('utf-8'))\n",
    "print(res.json()['hits'])"
   ]
  },
  {
   "cell_type": "code",
   "execution_count": null,
   "metadata": {
    "scrolled": true
   },
   "outputs": [],
   "source": [
    "json_body=search_match_field_wildcard('title','*משכנ*')\n",
    "res=requests.get('http://localhost:9200/news/_search',headers=headers,data=json_body.encode('utf-8'))\n",
    "print(res.json()['hits'])"
   ]
  },
  {
   "cell_type": "code",
   "execution_count": null,
   "metadata": {},
   "outputs": [],
   "source": [
    "json_body=search_fuzzy_match('title','מגפה','and','2')\n",
    "res=requests.get('http://localhost:9200/news/_search',headers=headers,data=json_body.encode('utf-8'))\n",
    "print(res.json()['hits'])"
   ]
  },
  {
   "cell_type": "markdown",
   "metadata": {},
   "source": [
    "### Aggregate query"
   ]
  },
  {
   "cell_type": "code",
   "execution_count": null,
   "metadata": {},
   "outputs": [],
   "source": [
    "def aggregate_query():\n",
    "    json_body='{\"size\":0,\"aggs\":{\"dates\":{\"terms\":{\"field\":\"publishedAt\"}}}}'\n",
    "    return json_body\n",
    "\n",
    "json_body=aggrete_query()\n",
    "res=requests.get('http://localhost:9200/news/_search',headers=headers,data=json_body.encode('utf-8'))\n",
    "print(res.json()['aggregations'])"
   ]
  },
  {
   "cell_type": "code",
   "execution_count": null,
   "metadata": {},
   "outputs": [],
   "source": [
    "def aggregate_field_query():\n",
    "    json_body='{ \"size\":0, \"aggs\":{\"dates\":{\"terms\":{\"field\":\"publishedAt\"},\"aggs\": {\"sources\":{\"terms\":{\"field\":\"source\"}}}}}}'\n",
    "    return json_body\n",
    "\n",
    "json_body=aggrete_query()\n",
    "res=requests.get('http://localhost:9200/news/_search',headers=headers,data=json_body.encode('utf-8'))\n",
    "print(res.json()['aggregations'])\n"
   ]
  },
  {
   "cell_type": "code",
   "execution_count": null,
   "metadata": {},
   "outputs": [],
   "source": [
    "def aggregate_fields_quer():\n",
    "    json_body='{ \"size\":0,\"query\":{\"match\":{\"title\":{\"query\":\"בנק ישראל\",\"fuzziness\": 2}}}, \"aggs\":{\"dates\":{\"terms\":{\"field\":\"publishedAt\"},\"aggs\": {\"sources\":{\"terms\":{\"field\":\"source\"}}}}}}'\n",
    "    return json_body\n",
    "\n",
    "json_body=aggrete_query()\n",
    "res=requests.get('http://localhost:9200/news/_search',headers=headers,data=json_body.encode('utf-8'))\n",
    "print(res.json()['aggregations'])"
   ]
  },
  {
   "cell_type": "code",
   "execution_count": null,
   "metadata": {},
   "outputs": [],
   "source": []
  }
 ],
 "metadata": {
  "kernelspec": {
   "display_name": "Python 3",
   "language": "python",
   "name": "python3"
  },
  "language_info": {
   "codemirror_mode": {
    "name": "ipython",
    "version": 3
   },
   "file_extension": ".py",
   "mimetype": "text/x-python",
   "name": "python",
   "nbconvert_exporter": "python",
   "pygments_lexer": "ipython3",
   "version": "3.7.7"
  }
 },
 "nbformat": 4,
 "nbformat_minor": 4
}
